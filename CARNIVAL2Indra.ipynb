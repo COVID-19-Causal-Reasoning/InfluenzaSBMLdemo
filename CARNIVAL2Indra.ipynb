{
 "cells": [
  {
   "cell_type": "code",
   "execution_count": 1,
   "metadata": {},
   "outputs": [],
   "source": [
    "import indra"
   ]
  },
  {
   "cell_type": "code",
   "execution_count": 5,
   "metadata": {
    "scrolled": false
   },
   "outputs": [
    {
     "name": "stderr",
     "output_type": "stream",
     "text": [
      "INFO: [2020-12-18 17:04:10] pybel.config - no configuration found, using default sqlite connection sqlite:////Users/zuck016/.pybel/pybel_0.14.0_cache.db\n"
     ]
    }
   ],
   "source": [
    "from indra.sources import trips\n",
    "from indra.assemblers.pysb import PysbAssembler\n",
    "from indra.sources import bel\n",
    "from indra.assemblers.sif import SifAssembler\n",
    "from indra.assemblers.cag.assembler import CAGAssembler\n",
    "from indra.assemblers.sbgn.assembler import SBGNAssembler\n",
    "from indra.assemblers.indranet.assembler import IndraNetAssembler\n",
    "from indra.assemblers.pybel.assembler import PybelAssembler\n",
    "import pygraphviz as pg"
   ]
  },
  {
   "cell_type": "markdown",
   "metadata": {},
   "source": [
    "# Generate Graphviz output"
   ]
  },
  {
   "cell_type": "code",
   "execution_count": 3,
   "metadata": {},
   "outputs": [],
   "source": [
    "%%bash\n",
    "\n",
    "EXPERIMENT=ICL103\n",
    "OMICS=Proteins\n",
    "VARIABLE=VN1203\n",
    "STRAIN=\"VN1203 NS1 627E Mock\"\n",
    "TIME=\"0h 3h 7h 12h 18h 24h\"\n",
    "PERTURBATION=kegg_influenza_ns1.txt\n",
    "\n",
    "for BASELINE in Mock NS1 \n",
    "do\n",
    "    for CONSTANT in $TIME\n",
    "    do\n",
    "\t\tdot -Tpdf  ResultsCARNIVAL_${VARIABLE}vs${BASELINE}_for_${CONSTANT}r/network_solution.dot \\\n",
    "           -o ResultsCARNIVAL_${VARIABLE}vs${BASELINE}_for_${CONSTANT}r/${VARIABLE}vs${BASELINE}_for_${CONSTANT}r.pdf\n",
    "    done\n",
    "done\n"
   ]
  },
  {
   "cell_type": "markdown",
   "metadata": {},
   "source": [
    "# Generate Omnipath data"
   ]
  },
  {
   "cell_type": "markdown",
   "metadata": {},
   "source": [
    "# Read dotfile"
   ]
  },
  {
   "cell_type": "code",
   "execution_count": 82,
   "metadata": {},
   "outputs": [
    {
     "name": "stdout",
     "output_type": "stream",
     "text": [
      "Overwriting carnival2excel.py\n"
     ]
    }
   ],
   "source": [
    "%%writefile carnival2excel.py\n",
    "import argparse\n",
    "from pathlib import Path\n",
    "import pandas as pd\n",
    "import pygraphviz as pg\n",
    "\n",
    "def export_network(g, activity, nodetype, edgetype, omnipath):\n",
    "    node_df = pd.DataFrame(dict(activity=[activity[node.attr['fillcolor']]\n",
    "                                          for node in g],\n",
    "                                nodetype=[nodetype[node.attr['shape']]\n",
    "                                          if 'shape' in node.attr \n",
    "                                          else 'InferredNode'\n",
    "                                          for node in g]),        \n",
    "                            index=g.nodes())\n",
    "    edge_df = pd.DataFrame([(edge[0],edgetype[edge.attr['arrowhead']], edge[1])\n",
    "                           for edge in g.edges()],\n",
    "                          columns=['Source', 'Relationship', 'Target'])\n",
    "    edge_omnipath = pd.merge( edge_df, omnipath, \n",
    "                              how='left',  \n",
    "                              left_on=['Source','Target'], \n",
    "                              right_on=['source_genesymbol','target_genesymbol'] )\n",
    "    \n",
    "    return node_df, edge_omnipath\n",
    "\n",
    "\n",
    "if __name__ == '__main__':\n",
    "    parser = argparse.ArgumentParser(description='Process some integers.')\n",
    "\n",
    "    parser.add_argument( \"--perturbation_file\", help=\"Perturbation File\", default=\"NoInput\")\n",
    "    parser.add_argument( \"--variable\", help=\"Intervention (e.g. VN1203)\")\n",
    "    parser.add_argument( \"--baseline\", help=\"The thing to be compared against. E.g. Mock\")\n",
    "    parser.add_argument( \"--constant\", help=\"The things that are held constant for both variable and baseline. For example timepoint (7h) or strain (VN1203\")\n",
    "    parser.add_argument( \"--inputdir\", help=\"input directory\")\n",
    "    parser.add_argument( \"--outputdir\", help=\"output directory\")\n",
    "    parser.add_argument(\"--omnipathdb\",help=\"Omnipath file\")\n",
    "\n",
    "    test_arguments= [\"--inputdir\", \"ResultsCARNIVAL_VN1203vsMock_for_24hr\",\n",
    "                   \"--variable\", \"VN1203\", \n",
    "                    \"--baseline\", \"Mock\",\n",
    "                   \"--constant\", \"24h\",\n",
    "                    \"--omnipathdb\", \"OmnipathSignedDirectedInteractions.csv\",\n",
    "                   \"--outputdir\", \"ResultsCARNIVAL_VN1203vsMock_for_24hr\"]\n",
    "\n",
    "    argv = parser.parse_args()\n",
    "    #expdir = Path(f'ResultsCARNIVAL_{argv.variable}vs{argv.baseline}_for_{argv.constant}r')\n",
    "    inputdir = Path(argv.inputdir)\n",
    "    outputdir = Path(argv.outputdir)\n",
    "    gv = pg.AGraph(str(inputdir/'network_solution.dot'))\n",
    "    activity = {'mistyrose':'DownRegulated', 'lavender':'UpRegulated'}\n",
    "    nodetype = {'doublecircle':'FootprintObserved',\n",
    "                'invhouse':'Perturbation',\n",
    "                '':'InferredNode'}\n",
    "    edgetype = {\"tee\":\"inhibits\",\n",
    "                \"vee\": \"activates\"}\n",
    "    omnipath = pd.read_csv(argv.omnipathdb).drop_duplicates()\n",
    "    nodes, edges = export_network(gv, activity, nodetype, edgetype, omnipath)\n",
    "    outfile = outputdir/f'{argv.variable}vs{argv.baseline}_for_{argv.constant}r_{argv.perturbation_file}.xlsx' \n",
    "    \n",
    "    with pd.ExcelWriter(str(outfile)) as writer:  \n",
    "        nodes.to_excel(writer, sheet_name='Protein Activity')\n",
    "        edges.to_excel(writer, sheet_name='RegulatoryInteractions')\n"
   ]
  }
 ],
 "metadata": {
  "kernelspec": {
   "display_name": "Python 3",
   "language": "python",
   "name": "python3"
  },
  "language_info": {
   "codemirror_mode": {
    "name": "ipython",
    "version": 3
   },
   "file_extension": ".py",
   "mimetype": "text/x-python",
   "name": "python",
   "nbconvert_exporter": "python",
   "pygments_lexer": "ipython3",
   "version": "3.7.4"
  },
  "latex_envs": {
   "LaTeX_envs_menu_present": true,
   "autoclose": false,
   "autocomplete": true,
   "bibliofile": "biblio.bib",
   "cite_by": "apalike",
   "current_citInitial": 1,
   "eqLabelWithNumbers": true,
   "eqNumInitial": 1,
   "hotkeys": {
    "equation": "Ctrl-E",
    "itemize": "Ctrl-I"
   },
   "labels_anchors": false,
   "latex_user_defs": false,
   "report_style_numbering": false,
   "user_envs_cfg": false
  },
  "toc": {
   "base_numbering": 1,
   "nav_menu": {},
   "number_sections": true,
   "sideBar": true,
   "skip_h1_title": false,
   "title_cell": "Table of Contents",
   "title_sidebar": "Contents",
   "toc_cell": false,
   "toc_position": {
    "height": "calc(100% - 180px)",
    "left": "10px",
    "top": "150px",
    "width": "332px"
   },
   "toc_section_display": true,
   "toc_window_display": true
  }
 },
 "nbformat": 4,
 "nbformat_minor": 2
}
